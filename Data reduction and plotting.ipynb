{
 "cells": [
  {
   "cell_type": "markdown",
   "id": "785b3750",
   "metadata": {},
   "source": [
    "Before this, you need to install PynPoint version 0.8.1 by way of : pip install install pynpoint==0.8.1 and trackpy by: \n",
    "pip install trackpy in your anaconda terminal."
   ]
  },
  {
   "cell_type": "markdown",
   "id": "82e4a38b",
   "metadata": {},
   "source": [
    "$\\textbf{Importing the necessary modules from PynPoint, together with necessary python modules for plotting.}$"
   ]
  },
  {
   "cell_type": "code",
   "execution_count": 5,
   "id": "91afbd88",
   "metadata": {},
   "outputs": [],
   "source": [
    "import matplotlib.pyplot as plt\n",
    "import os\n",
    "import numpy as np\n",
    "from astropy.visualization import astropy_mpl_style\n",
    "from matplotlib.patches import Circle\n",
    "from astropy import table\n",
    "from astropy.utils.data import get_pkg_data_filename\n",
    "from matplotlib.cm import ScalarMappable\n",
    "from Sep_PA import calc_sep_pa3\n",
    "from mpl_toolkits.axes_grid1 import make_axes_locatable\n",
    "\n",
    "from ImageFunctions import UnsharpMaskModule, CorrectDistortionModule_SPHERE\n",
    "from BadPixelCleaning import BadPixelMapModule_IRDIS\n",
    "from pynpoint import Pypeline, FitsReadingModule, FitsWritingModule, StackCubesModule, FlatCalibrationModule, \\\n",
    "    BadPixelSigmaFilterModule, NoddingBackgroundModule, AngleCalculationModule, CombineTagsModule, \\\n",
    "    SortParangModule, StackAndSubsetModule, CropImagesModule, DerotateAndStackModule, ReplaceBadPixelsModule, \\\n",
    "    WaffleCenteringModule, PSFpreparationModule, PcaPsfSubtractionModule, ClassicalADIModule, AttributeWritingModule, \\\n",
    "    DarkCalibrationModule, BadPixelMapModule, AddLinesModule, Hdf5WritingModule, Hdf5ReadingModule, FitCenterModule\n",
    "\n",
    "#if you get a warning from jupyter here, you might need to downgrade to an older version op ipython by starting up an\n",
    "#anaconda terminal and running : pip install install ipython==7.10.0"
   ]
  },
  {
   "cell_type": "markdown",
   "id": "a9ac12f1",
   "metadata": {},
   "source": [
    "$\\textbf{Parameters}$"
   ]
  },
  {
   "cell_type": "code",
   "execution_count": 4,
   "id": "a679ffcb",
   "metadata": {},
   "outputs": [
    {
     "ename": "SyntaxError",
     "evalue": "invalid syntax (<ipython-input-4-feb4c96b2ea8>, line 22)",
     "output_type": "error",
     "traceback": [
      "\u001b[1;36m  File \u001b[1;32m\"<ipython-input-4-feb4c96b2ea8>\"\u001b[1;36m, line \u001b[1;32m22\u001b[0m\n\u001b[1;33m    star_1_pos = (,) #these two parameters are the positions (centres) of the stars in the left and right frame of a sphere image.\u001b[0m\n\u001b[1;37m                  ^\u001b[0m\n\u001b[1;31mSyntaxError\u001b[0m\u001b[1;31m:\u001b[0m invalid syntax\n"
     ]
    }
   ],
   "source": [
    "target = \"\" #here just put the name of the observed target\n",
    "\n",
    "q\n",
    "\n",
    "filt = \"B_H\"\n",
    "instrument = \"SPHERE\"\n",
    "instrument_det = \"IRDIS\"\n",
    "\n",
    "path = \"\"#this should be the path of the target, in this target folder should be an output folder, an input folder and the\n",
    "#four other python files containing the necessary functions, same path as for the master flat file.\n",
    "\n",
    "\n",
    "pixscale = 0.01227 #there three sizes are the same for all SPHERE images.\n",
    "\n",
    "im_size_1 = 1031\n",
    "im_size_2 = 1023\n",
    "im_size_3 = 201\n",
    "\n",
    "\n",
    "star_1_pos = (,) #these two parameters are the x and y positions (centres) of the stars in the left and right frame of a sphere image.\n",
    "#one of the functions (WaffleCenteringModule()) needs these to make sure both sides are added together on the correct positions.\n",
    "#to get these you need to look at a raw image in SAOImageDS9 and take the positions from there (open the fits file). If that \n",
    "#does not result in correct combination of both sides, add the write_addlines_arr() module and look at its output .fits file\n",
    "#and take the centres from there.\n",
    "star_2_pos = (,)\n",
    "radius = #for this you need to look at the centre frames from SPHERE and apply a circular region over the star in the frames\n",
    "#in DS9, this region needs to just barely contain the 'Waffles' around the star, the radius of this region is what \n",
    "#you should put here.\n",
    "kernel_size = 5 #stays the same for all SPHERE images."
   ]
  },
  {
   "cell_type": "markdown",
   "id": "d3ad1fb2",
   "metadata": {},
   "source": [
    "$\\textbf{Define directories}$"
   ]
  },
  {
   "cell_type": "code",
   "execution_count": null,
   "id": "88e11cb4",
   "metadata": {},
   "outputs": [],
   "source": [
    "working_place_in = os.path.join(path)\n",
    "input_place_in = os.path.join(path,'input\\\\') #the directory in which all your files are. Within this directory\n",
    "#the files need to be sorted based on nature: dark, sky, science, center, flat etc.\n",
    "output_place_in = os.path.join(path,'output\\\\')#here the master flat\n",
    "#will be put after its creation, which you can then use again for the data reduction"
   ]
  },
  {
   "cell_type": "markdown",
   "id": "c7cfe6c1",
   "metadata": {},
   "source": [
    "$\\textbf{Configuring directories}$"
   ]
  },
  {
   "cell_type": "code",
   "execution_count": null,
   "id": "11c73805",
   "metadata": {},
   "outputs": [],
   "source": [
    "# Create Working directory for this target\n",
    "if not os.path.isdir(working_place_in):\n",
    "    print(\"Creating directory: %s\" % (working_place_in))\n",
    "    os.makedirs(working_place_in)\n",
    "\n",
    "# Create directory for results\n",
    "if not os.path.isdir(output_place_in):\n",
    "    print(\"Creating directory: %s\" % (output_place_in))\n",
    "    os.makedirs(output_place_in)\n",
    "\n",
    "pipeline = Pypeline(working_place_in=path,\n",
    "                    input_place_in,\n",
    "                    output_place_in)"
   ]
  },
  {
   "cell_type": "markdown",
   "id": "b99fa29d",
   "metadata": {},
   "source": [
    "$\\textbf{Reading the science data}$"
   ]
  },
  {
   "cell_type": "code",
   "execution_count": null,
   "id": "6a512385",
   "metadata": {},
   "outputs": [],
   "source": [
    "science = FitsReadingModule(name_in='read_science',\n",
    "                           input_dir=input_place_in + 'SCIENCE',\n",
    "                           image_tag='im_arr',\n",
    "                           overwrite=True,\n",
    "                           check=False,)"
   ]
  },
  {
   "cell_type": "markdown",
   "id": "ed04a5cf",
   "metadata": {},
   "source": [
    "$\\textbf{Reading the dark data}$"
   ]
  },
  {
   "cell_type": "code",
   "execution_count": null,
   "id": "b28b4889",
   "metadata": {},
   "outputs": [],
   "source": [
    "dark = FitsReadingModule(name_in='read_dark',\n",
    "                           input_dir=input_place_in + 'DARK',\n",
    "                           image_tag='dark_arr',\n",
    "                           overwrite=True,\n",
    "                           check=False,)"
   ]
  },
  {
   "cell_type": "markdown",
   "id": "bc479d48",
   "metadata": {},
   "source": [
    "$\\textbf{Reading the master flat data}$"
   ]
  },
  {
   "cell_type": "code",
   "execution_count": null,
   "id": "8d75e90e",
   "metadata": {},
   "outputs": [],
   "source": [
    "flat = FitsReadingModule(name_in='flat',\n",
    "                           input_dir=output_place_in + 'master_Flat',\n",
    "                           image_tag='master_flat_arr',\n",
    "                           overwrite=True,\n",
    "                           check=False,)"
   ]
  },
  {
   "cell_type": "markdown",
   "id": "effc5c5e",
   "metadata": {},
   "source": [
    "$\\textbf{Reading the sky data}$"
   ]
  },
  {
   "cell_type": "code",
   "execution_count": null,
   "id": "6d31b142",
   "metadata": {},
   "outputs": [],
   "source": [
    "sky = FitsReadingModule(name_in=\"sky_reading\",\n",
    "                                input_dir=input_place_in + 'SKY',\n",
    "                                image_tag=\"sky_arr\")"
   ]
  },
  {
   "cell_type": "markdown",
   "id": "34869512",
   "metadata": {},
   "source": [
    "$\\textbf{Reading the center data}$"
   ]
  },
  {
   "cell_type": "code",
   "execution_count": null,
   "id": "585e0553",
   "metadata": {},
   "outputs": [],
   "source": [
    "center_reading = FitsReadingModule(name_in=\"center_reading\",\n",
    "                                   input_dir=input_place_in + 'CENTER',\n",
    "                                   image_tag=\"center_arr\")"
   ]
  },
  {
   "cell_type": "markdown",
   "id": "22b98a92",
   "metadata": {},
   "source": [
    "$\\textbf{Calculate parallactic angle}$"
   ]
  },
  {
   "cell_type": "code",
   "execution_count": null,
   "id": "4574467e",
   "metadata": {},
   "outputs": [],
   "source": [
    "angle_calculation = AngleCalculationModule(instrument=\"SPHERE/IRDIS\",\n",
    "                                           name_in=\"angle_calculation\",\n",
    "                                           data_tag=\"im_arr\")\n",
    "\n",
    "write_parang = AttributeWritingModule(name_in=\"write_parang\",\n",
    "                                      data_tag='im_arr',\n",
    "                                      attribute=\"PARANG\",\n",
    "                                      file_name='parang.dat')"
   ]
  },
  {
   "cell_type": "markdown",
   "id": "a7d642e4",
   "metadata": {},
   "source": [
    "$\\textbf{Median combine all the sky images}$"
   ]
  },
  {
   "cell_type": "code",
   "execution_count": null,
   "id": "8ccccf60",
   "metadata": {},
   "outputs": [],
   "source": [
    "sky_median = DerotateAndStackModule(name_in=\"median_sky_arr\",\n",
    "                                    image_in_tag=\"sky_arr\",\n",
    "                                    image_out_tag=\"sky_arr_median\",\n",
    "                                    derotate=False,\n",
    "                                    stack='median',\n",
    "                                    extra_rot=0.)"
   ]
  },
  {
   "cell_type": "markdown",
   "id": "d5829d03",
   "metadata": {},
   "source": [
    "$\\textbf{Substract sky from the science data}$"
   ]
  },
  {
   "cell_type": "code",
   "execution_count": null,
   "id": "78d93867",
   "metadata": {},
   "outputs": [],
   "source": [
    "sky_subtraction_science = DarkCalibrationModule(name_in=\"sky_subtraction_science\",\n",
    "                                                dark_in_tag=\"sky_arr_median\",\n",
    "                                                image_in_tag=\"im_arr\",\n",
    "                                                image_out_tag=\"im_arr_sub\")\n",
    "\n",
    "write_im_arr_sub = FitsWritingModule(file_name=\"im_arr_sub.fits\",\n",
    "                                     name_in=\"write_im_arr_sub\",\n",
    "                                     data_tag=\"im_arr_sub\")"
   ]
  },
  {
   "cell_type": "markdown",
   "id": "1236ce8e",
   "metadata": {},
   "source": [
    "$\\textbf{Substract sky from the center frame}$"
   ]
  },
  {
   "cell_type": "code",
   "execution_count": null,
   "id": "f5ae1933",
   "metadata": {},
   "outputs": [],
   "source": [
    "sky_subtraction_center = DarkCalibrationModule(name_in=\"sky_subtraction_center\",\n",
    "                                               dark_in_tag=\"sky_arr_median\",\n",
    "                                               image_in_tag=\"center_arr\",\n",
    "                                               image_out_tag=\"center_arr_sub\")\n",
    "\n",
    "write_center_arr_sub = FitsWritingModule(file_name=\"center_arr_sub.fits\",\n",
    "                                         name_in=\"write_center_arr_sub\",\n",
    "                                         data_tag=\"center_arr_sub\")"
   ]
  },
  {
   "cell_type": "markdown",
   "id": "bd2807d3",
   "metadata": {},
   "source": [
    "$\\textbf{Flat calibration science images}$"
   ]
  },
  {
   "cell_type": "code",
   "execution_count": null,
   "id": "71f7a8be",
   "metadata": {},
   "outputs": [],
   "source": [
    "flat_calibration_science = FlatCalibrationModule(name_in=\"flat_calibration_science\",\n",
    "                                                 image_in_tag=\"im_arr_sub\",\n",
    "                                                 flat_in_tag=\"master_flat_arr\",\n",
    "                                                 image_out_tag=\"im_arr_clean\")\n",
    "\n",
    "write_im_arr_clean = FitsWritingModule(file_name=\"im_arr_clean.fits\",\n",
    "                                       name_in=\"write_im_arr_clean\",\n",
    "                                       data_tag=\"im_arr_clean\")"
   ]
  },
  {
   "cell_type": "markdown",
   "id": "c717d664",
   "metadata": {},
   "source": [
    "$\\textbf{Flat calibration center frames}$"
   ]
  },
  {
   "cell_type": "code",
   "execution_count": null,
   "id": "6aad698c",
   "metadata": {},
   "outputs": [],
   "source": [
    "flat_calibration_center = FlatCalibrationModule(name_in=\"flat_calibration_center\",\n",
    "                                                image_in_tag=\"center_arr_sub\",\n",
    "                                                flat_in_tag=\"master_flat_arr\",\n",
    "                                                image_out_tag=\"center_arr_clean\")\n",
    "\n",
    "write_center_arr_clean = FitsWritingModule(file_name=\"center_arr_clean.fits\",\n",
    "                                           name_in=\"write_center_arr_clean\",\n",
    "                                           data_tag=\"center_arr_clean\")"
   ]
  },
  {
   "cell_type": "markdown",
   "id": "966a9111",
   "metadata": {},
   "source": [
    "$\\textbf{Create a bad pixel map}$"
   ]
  },
  {
   "cell_type": "code",
   "execution_count": null,
   "id": "8a4c56f1",
   "metadata": {},
   "outputs": [],
   "source": [
    "create_bp_map = BadPixelMapModule_IRDIS(name_in=\"create_bp_map\",\n",
    "                                        dark_in_tag=\"dark_arr\",\n",
    "                                        flat_in_tag=\"master_flat_arr\",\n",
    "                                        bp_map_out_tag=\"bp_map\",\n",
    "                                        dark_threshold=0.2,\n",
    "                                        flat_threshold=0.2)\n",
    "\n",
    "write_bp_map = FitsWritingModule(file_name=\"bp_map.fits\",\n",
    "                                 name_in=\"write_bp_map\",\n",
    "                                 data_tag=\"bp_map\")"
   ]
  },
  {
   "cell_type": "markdown",
   "id": "38263757",
   "metadata": {},
   "source": [
    "$\\textbf{Run the bad pixel cleaning for the science data}$"
   ]
  },
  {
   "cell_type": "code",
   "execution_count": null,
   "id": "c21e7fc2",
   "metadata": {},
   "outputs": [],
   "source": [
    "bp_cleaning_science_1 = ReplaceBadPixelsModule(name_in=\"bad_pixel_cleaning_science_1\",\n",
    "                                               image_in_tag=\"im_arr_clean\",\n",
    "                                               map_in_tag=\"bp_map\",\n",
    "                                               image_out_tag=\"im_arr_bp_clean_1\",\n",
    "                                               size=2,\n",
    "                                               replace=\"mean\")\n",
    "\n",
    "write_im_arr_bp_clean_1 = FitsWritingModule(file_name=\"im_arr_bp_clean_1.fits\",\n",
    "                                            name_in=\"write_im_arr_bp_clean_1\",\n",
    "                                            data_tag=\"im_arr_bp_clean_1\")\n",
    "\n",
    "bp_cleaning_science_2 = BadPixelSigmaFilterModule(name_in=\"bad_pixel_cleaning_science_2\",\n",
    "                                                  image_in_tag=\"im_arr_bp_clean_1\",\n",
    "                                                  image_out_tag=\"im_arr_bp_clean_2\",\n",
    "                                                  box=9,\n",
    "                                                  sigma=5.)\n",
    "\n",
    "write_im_arr_bp_clean_2 = FitsWritingModule(file_name=\"im_arr_bp_clean_2.fits\",\n",
    "                                          name_in=\"write_im_arr_bp_clean_2\",\n",
    "                                          data_tag=\"im_arr_bp_clean_2\")\n"
   ]
  },
  {
   "cell_type": "markdown",
   "id": "1720154c",
   "metadata": {},
   "source": [
    "$\\textbf{Run the bad pixel cleaning on the reduced calibration data}$"
   ]
  },
  {
   "cell_type": "code",
   "execution_count": null,
   "id": "5db8baef",
   "metadata": {},
   "outputs": [],
   "source": [
    "bp_cleaning_center = ReplaceBadPixelsModule(name_in=\"bad_pixel_cleaning_center\",\n",
    "                                            image_in_tag=\"center_arr_clean\",\n",
    "                                            map_in_tag=\"bp_map\",\n",
    "                                            image_out_tag=\"center_arr_bp_clean\",\n",
    "                                            size=2,\n",
    "                                            replace=\"mean\")\n",
    "\n",
    "write_center_arr_bp_clean = FitsWritingModule(file_name=\"center_arr_bp_clean.fits\",\n",
    "                                              name_in=\"write_center_arr_bp_clean\",\n",
    "                                              data_tag=\"center_arr_bp_clean\")"
   ]
  },
  {
   "cell_type": "markdown",
   "id": "7d3bdeee",
   "metadata": {},
   "source": [
    "$\\textbf{Correct for the distortion in the y direction}$"
   ]
  },
  {
   "cell_type": "code",
   "execution_count": null,
   "id": "16f4974f",
   "metadata": {},
   "outputs": [],
   "source": [
    "correct_distortion_y_science = CorrectDistortionModule_SPHERE(name_in=\"correct_distortion_y_science\",\n",
    "                                                      image_in_tag=\"im_arr_bp_clean_2\",\n",
    "                                                      image_out_tag=\"im_arr_corrected\")\n",
    "\n",
    "correct_distortion_y_center = CorrectDistortionModule_SPHERE(name_in=\"correct_distortion_y_center\",\n",
    "                                                      image_in_tag=\"center_arr_bp_clean\",\n",
    "                                                      image_out_tag=\"center_arr_corrected\")\n"
   ]
  },
  {
   "cell_type": "markdown",
   "id": "0fca2931",
   "metadata": {},
   "source": [
    "$\\textbf{Add lines so large image cutout is possible}$"
   ]
  },
  {
   "cell_type": "code",
   "execution_count": null,
   "id": "0575d084",
   "metadata": {},
   "outputs": [],
   "source": [
    "add_lines_science = AddLinesModule(name_in='add_lines_science',\n",
    "                                   image_in_tag='im_arr_corrected',\n",
    "                                   image_out_tag='im_arr_add',\n",
    "                                   lines=(40,0,0,20))\n",
    "\n",
    "add_lines_center = AddLinesModule(name_in='add_lines_center',\n",
    "                                   image_in_tag='center_arr_corrected',\n",
    "                                   image_out_tag='center_arr_add',\n",
    "                                   lines=(40,0,0,20))\n",
    "\n",
    "write_addlines_arr = FitsWritingModule(file_name=\"im_arr_add.fits\",\n",
    "                                           name_in=\"write_addlines_arr\",\n",
    "                                           data_tag=\"im_arr_add\")"
   ]
  },
  {
   "cell_type": "markdown",
   "id": "3c9c87a9",
   "metadata": {},
   "source": [
    "$\\textbf{Center the images on the left side}$"
   ]
  },
  {
   "cell_type": "code",
   "execution_count": null,
   "id": "e6eb0951",
   "metadata": {},
   "outputs": [],
   "source": [
    "center_science_1 = WaffleCenteringModule(name_in=\"centering_images_1\",\n",
    "                                         image_in_tag=\"im_arr_add\",\n",
    "                                         center_in_tag=\"center_arr_add\",\n",
    "                                         image_out_tag=\"im_arr_centered_cut_1\",\n",
    "                                         size=im_size_1*pixscale,\n",
    "                                         center=star_1_pos,\n",
    "                                         radius=radius,\n",
    "                                         pattern=\"x\",\n",
    "                                         sigma=5.*pixscale,\n",
    "                                         dither=True) #here you need the x,y positions and radius of the star (centre) to add to the \n",
    "                                                        #module. Get this in the way described in the parameter cell.\n",
    "\n",
    "write_im_arr_centered_cut_1 = FitsWritingModule(file_name=\"im_arr_centered_cut_1.fits\",\n",
    "                                                name_in=\"write_im_arr_centered_cut_1\",\n",
    "                                                data_tag=\"im_arr_centered_cut_1\")"
   ]
  },
  {
   "cell_type": "markdown",
   "id": "50a628c3",
   "metadata": {},
   "source": [
    "$\\textbf{Center the images on the right side}$"
   ]
  },
  {
   "cell_type": "code",
   "execution_count": null,
   "id": "8fa8bbd7",
   "metadata": {},
   "outputs": [],
   "source": [
    "center_science_2 = WaffleCenteringModule(name_in=\"centering_images_2\",\n",
    "                                         image_in_tag=\"im_arr_add\",\n",
    "                                         center_in_tag=\"center_arr_add\",\n",
    "                                         image_out_tag=\"im_arr_centered_cut_2\",\n",
    "                                         size=im_size_1*pixscale,\n",
    "                                         center=star_2_pos,\n",
    "                                         radius=radius,\n",
    "                                         pattern=\"x\",\n",
    "                                         sigma=5.*pixscale,\n",
    "                                         dither=True)#same as in above cell, look at centre frame and raw science frame in DS9\n",
    "\n",
    "write_im_arr_centered_cut_2 = FitsWritingModule(file_name=\"im_arr_centered_cut_2.fits\",\n",
    "                                                name_in=\"write_im_arr_centered_cut_2\",\n",
    "                                                data_tag=\"im_arr_centered_cut_2\")"
   ]
  },
  {
   "cell_type": "markdown",
   "id": "a6b3364e",
   "metadata": {},
   "source": [
    "$\\textbf{Merge both sides}$"
   ]
  },
  {
   "cell_type": "code",
   "execution_count": null,
   "id": "2251836e",
   "metadata": {},
   "outputs": [],
   "source": [
    "merge_left_and_right = CombineTagsModule(image_in_tags=[\"im_arr_centered_cut_1\",\"im_arr_centered_cut_2\"],\n",
    "                                         check_attr=True,\n",
    "                                         name_in=\"combine_left_and_right\",\n",
    "                                         image_out_tag=\"im_arr_centered_cut\")\n",
    "\n",
    "write_im_arr_centered_cut = FitsWritingModule(file_name=\"im_arr_centered_cut.fits\",\n",
    "                                              name_in=\"write_im_arr_centered_cut\",\n",
    "                                              data_tag=\"im_arr_centered_cut\")"
   ]
  },
  {
   "cell_type": "markdown",
   "id": "54fa33ff",
   "metadata": {},
   "source": [
    "$\\textbf{Sort the images for parallactic angle}$"
   ]
  },
  {
   "cell_type": "code",
   "execution_count": null,
   "id": "c8a61be2",
   "metadata": {},
   "outputs": [],
   "source": [
    "sort_parang = SortParangModule(name_in=\"sort_parang\",\n",
    "                               image_in_tag=\"im_arr_centered_cut\",\n",
    "                               image_out_tag=\"im_arr_sorted\")\n",
    "\n",
    "write_im_arr_sorted = FitsWritingModule(file_name=\"im_arr_sorted.fits\",\n",
    "                                        name_in=\"write_im_arr_sorted\",\n",
    "                                        data_tag=\"im_arr_sorted\")"
   ]
  },
  {
   "cell_type": "markdown",
   "id": "ac0b6f87",
   "metadata": {},
   "source": [
    "$\\textbf{Mean combine left and right frames}$"
   ]
  },
  {
   "cell_type": "code",
   "execution_count": null,
   "id": "3e7d8ff2",
   "metadata": {},
   "outputs": [],
   "source": [
    "mean_left_right = StackAndSubsetModule(name_in=\"mean_left_right\",\n",
    "                                       image_in_tag=\"im_arr_sorted\",\n",
    "                                       image_out_tag=\"im_arr_final\",\n",
    "                                       stacking=2)\n",
    "\n",
    "write_im_arr_final = FitsWritingModule(file_name=\"im_arr_final.fits\",\n",
    "                                       name_in=\"write_im_arr_final\",\n",
    "                                       data_tag=\"im_arr_final\")"
   ]
  },
  {
   "cell_type": "markdown",
   "id": "d0e37dc2",
   "metadata": {},
   "source": [
    "$\\textbf{Cut images to final size}$"
   ]
  },
  {
   "cell_type": "code",
   "execution_count": null,
   "id": "66cc9405",
   "metadata": {},
   "outputs": [],
   "source": [
    "cut_im_arr_final = CropImagesModule(size=im_size_2*pixscale,\n",
    "                                    center=None,\n",
    "                                    name_in=\"cut_im_arr_final\",\n",
    "                                    image_in_tag=\"im_arr_final\",\n",
    "                                    image_out_tag=\"im_arr_final_cut\")\n",
    "\n",
    "write_im_arr_final_cut = FitsWritingModule(file_name=\"%s_%s_arr_final_cut.fits\"%(target,filt),\n",
    "                                           name_in=\"write_im_arr_final_cut\",\n",
    "                                           data_tag=\"im_arr_final_cut\", overwrite = True)"
   ]
  },
  {
   "cell_type": "markdown",
   "id": "9acf2d25",
   "metadata": {},
   "source": [
    "$\\textbf{Create residuals}$"
   ]
  },
  {
   "cell_type": "code",
   "execution_count": null,
   "id": "126e5b2a",
   "metadata": {},
   "outputs": [],
   "source": [
    "create_residuals_0 = DerotateAndStackModule(name_in=\"create_residuals_0\",\n",
    "                                            image_in_tag=\"im_arr_final_cut\",\n",
    "                                            image_out_tag=\"res_rot\",\n",
    "                                            derotate=True,\n",
    "                                            stack=None,\n",
    "                                            extra_rot=0.)\n",
    "\n",
    "write_res_rot = FitsWritingModule(file_name=\"%s_%s_res_rot.fits\"%(target,filt),\n",
    "                                   name_in=\"write_res_rot\",\n",
    "                                   data_tag=\"res_rot\", overwrite = True)\n"
   ]
  },
  {
   "cell_type": "markdown",
   "id": "bd08753e",
   "metadata": {},
   "source": [
    "$\\textbf{Calculate the median of the derotated stack}$"
   ]
  },
  {
   "cell_type": "code",
   "execution_count": null,
   "id": "2cbd3409",
   "metadata": {},
   "outputs": [],
   "source": [
    "create_median = DerotateAndStackModule(name_in=\"create_median\",\n",
    "                                       image_in_tag=\"im_arr_final_cut\",\n",
    "                                       image_out_tag=\"res_median\",\n",
    "                                       derotate=True,\n",
    "                                       stack=\"median\",\n",
    "                                       extra_rot=0.)\n",
    "\n",
    "write_res_median = FitsWritingModule(file_name=\"%s_%s_res_median.fits\"%(target,filt),\n",
    "                                     name_in=\"write_res_median\",\n",
    "                                     data_tag=\"res_median\", overwrite = True)\n",
    "\n",
    "unsharp_mask_res_median = UnsharpMaskModule(name_in=\"unsharp_mask_res_median\",\n",
    "                                            image_in_tag=\"res_median\",\n",
    "                                            image_out_tag=\"res_median_unsharp\",\n",
    "                                            kernel_size=kernel_size)\n",
    "\n",
    "write_res_median_unsharp = FitsWritingModule(file_name=\"%s_%s_res_median_unsharp.fits\"%(target,filt),\n",
    "                                             name_in=\"write_res_median_unsharp\",\n",
    "                                             data_tag=\"res_median_unsharp\", overwrite = True)"
   ]
  },
  {
   "cell_type": "markdown",
   "id": "a1410d8b",
   "metadata": {},
   "source": [
    "$\\textbf{Derotate and average}$"
   ]
  },
  {
   "cell_type": "code",
   "execution_count": null,
   "id": "4b41a05b",
   "metadata": {},
   "outputs": [],
   "source": [
    "create_residuals_1 = DerotateAndStackModule(name_in=\"create_residuals_1\",\n",
    "                                            image_in_tag=\"im_arr_final_cut\",\n",
    "                                            image_out_tag=\"res_mean\",\n",
    "                                            derotate=True,\n",
    "                                            stack=\"mean\")\n",
    "\n",
    "write_res_mean = FitsWritingModule(file_name=\"%s_%s_res_mean.fits\"%(target,filt),\n",
    "                                   name_in=\"write_res_mean\",\n",
    "                                   data_tag=\"res_mean\", overwrite = True)\n",
    "\n",
    "unsharp_mask_res_mean = UnsharpMaskModule(name_in=\"apply_unsharp_mask_res_mean\",\n",
    "                                          image_in_tag=\"res_mean\",\n",
    "                                          image_out_tag=\"res_mean_unsharp\",\n",
    "                                          kernel_size=kernel_size)\n",
    "\n",
    "write_res_mean_unsharp = FitsWritingModule(file_name=\"%s_%s_res_mean_unsharp.fits\"%(target,filt),\n",
    "                                           name_in=\"write_res_mean_unsharp\",\n",
    "                                           data_tag=\"res_mean_unsharp\", overwrite = True)"
   ]
  },
  {
   "cell_type": "markdown",
   "id": "2a6a1270",
   "metadata": {},
   "source": [
    "$\\textbf{cADI}$"
   ]
  },
  {
   "cell_type": "code",
   "execution_count": null,
   "id": "fd2414c1",
   "metadata": {},
   "outputs": [],
   "source": [
    "cADI_psf_sub_1 = ClassicalADIModule(threshold=None,\n",
    "                                  nreference=None,\n",
    "                                  residuals=\"median\",\n",
    "                                  extra_rot=0.,\n",
    "                                  name_in=\"cADI_psf_sub_1\",\n",
    "                                  image_in_tag=\"im_arr_final_cut\",\n",
    "                                  res_out_tag=\"cADI_res_rot\",\n",
    "                                  stack_out_tag=\"cADI_res_median\")\n",
    "\n",
    "write_cADI_res_median = FitsWritingModule(file_name=\"%s_%s_cADI_res_median.fits\" % (target, filt),\n",
    "                                          name_in=\"write_cADI_res_median\",\n",
    "                                          data_tag=\"cADI_res_median\", overwrite = True)\n",
    "\n",
    "cADI_psf_sub_2 = ClassicalADIModule(threshold=None,\n",
    "                                  nreference=None,\n",
    "                                  residuals=\"mean\",\n",
    "                                  extra_rot=0.,\n",
    "                                  name_in=\"cADI_psf_sub_2\",\n",
    "                                  image_in_tag=\"im_arr_final_cut\",\n",
    "                                  res_out_tag=\"cADI_res_rot\",\n",
    "                                  stack_out_tag=\"cADI_res_mean\")\n",
    "\n",
    "write_cADI_res_mean = FitsWritingModule(file_name=\"%s_%s_cADI_res_mean.fits\" % (target, filt),\n",
    "                                          name_in=\"write_cADI_res_mean\",\n",
    "                                          data_tag=\"cADI_res_mean\", overwrite = True)"
   ]
  },
  {
   "cell_type": "markdown",
   "id": "7f16be05",
   "metadata": {},
   "source": [
    "$\\textbf{Adding all the modules to the pipeline}$"
   ]
  },
  {
   "cell_type": "code",
   "execution_count": null,
   "id": "45b34c3b",
   "metadata": {},
   "outputs": [],
   "source": [
    "pipeline.add_module(science)\n",
    "pipeline.add_module(sky)\n",
    "pipeline.add_module(dark)\n",
    "pipeline.add_module(flat)\n",
    "pipeline.add_module(center_reading)\n",
    "pipeline.add_module(angle_calculation)\n",
    "pipeline.add_module(write_parang)\n",
    "pipeline.add_module(sky_median)\n",
    "pipeline.add_module(sky_subtraction_science)\n",
    "# pipeline.add_module(write_im_arr_sub)\n",
    "pipeline.add_module(sky_subtraction_center)\n",
    "# pipeline.add_module(write_center_arr_sub)\n",
    "pipeline.add_module(flat_calibration_science)\n",
    "# pipeline.add_module(write_im_arr_clean)\n",
    "pipeline.add_module(flat_calibration_center)\n",
    "# pipeline.add_module(write_center_arr_clean)\n",
    "pipeline.add_module(create_bp_map)\n",
    "# pipeline.add_module(write_bp_map)\n",
    "pipeline.add_module(bp_cleaning_science_1)\n",
    "# pipeline.add_module(write_im_arr_bp_clean_1)\n",
    "pipeline.add_module(bp_cleaning_science_2)\n",
    "# pipeline.add_module(write_im_arr_bp_clean_2)\n",
    "pipeline.add_module(bp_cleaning_center)\n",
    "pipeline.add_module(write_center_arr_bp_clean)\n",
    "pipeline.add_module(correct_distortion_y_science)\n",
    "pipeline.add_module(correct_distortion_y_center)\n",
    "pipeline.add_module(add_lines_science)\n",
    "pipeline.add_module(add_lines_center)\n",
    "# pipeline.add_module(write_addlines_arr)\n",
    "pipeline.add_module(center_science_1)\n",
    "pipeline.add_module(write_im_arr_centered_cut_1)\n",
    "pipeline.add_module(center_science_2)\n",
    "pipeline.add_module(write_im_arr_centered_cut_2)\n",
    "pipeline.add_module(merge_left_and_right)\n",
    "pipeline.add_module(write_im_arr_centered_cut)\n",
    "pipeline.add_module(sort_parang)\n",
    "pipeline.add_module(write_im_arr_sorted)\n",
    "pipeline.add_module(mean_left_right)\n",
    "pipeline.add_module(write_im_arr_final)\n",
    "pipeline.add_module(cut_im_arr_final)\n",
    "pipeline.add_module(write_im_arr_final_cut)\n",
    "pipeline.add_module(create_residuals_0)\n",
    "pipeline.add_module(write_res_rot)\n",
    "pipeline.add_module(create_median)\n",
    "pipeline.add_module(write_res_median)\n",
    "pipeline.add_module(unsharp_mask_res_median)\n",
    "pipeline.add_module(write_res_median_unsharp)\n",
    "pipeline.add_module(create_residuals_1)\n",
    "pipeline.add_module(write_res_mean)\n",
    "pipeline.add_module(unsharp_mask_res_mean)\n",
    "pipeline.add_module(write_res_mean_unsharp)\n",
    "pipeline.add_module(cADI_psf_sub_1)\n",
    "pipeline.add_module(write_cADI_res_median)\n",
    "pipeline.add_module(cADI_psf_sub_2)\n",
    "pipeline.add_module(write_cADI_res_mean)"
   ]
  },
  {
   "cell_type": "code",
   "execution_count": null,
   "id": "25ff7e66",
   "metadata": {},
   "outputs": [],
   "source": [
    "pipeline.run()"
   ]
  },
  {
   "cell_type": "markdown",
   "id": "c7c7d76c",
   "metadata": {},
   "source": [
    "$\\textbf{Making the plots}$"
   ]
  },
  {
   "cell_type": "code",
   "execution_count": null,
   "id": "12579fae",
   "metadata": {},
   "outputs": [],
   "source": [
    "dat = get_pkg_data_filename(output_place_in + '_cADI_res_median.fits')\n",
    "data = fits.getdata(dat, ext=0)"
   ]
  },
  {
   "cell_type": "code",
   "execution_count": null,
   "id": "8993af74",
   "metadata": {},
   "outputs": [],
   "source": [
    "Fig, ax = plt.subplots(1,1,figsize=(10,10))\n",
    "plt.title(target, fontsize = '14')\n",
    "\n",
    "im = ax.imshow(data[0], vmin = -1, vmax = 1, cmap = 'viridis')\n",
    "\n",
    "plt.xlabel('Pixels', fontsize = '14')\n",
    "\n",
    "plt.ylabel('Pixels', fontsize = '14')\n",
    "plt.gca().invert_yaxis()\n",
    "\n",
    "divider = make_axes_locatable(ax)\n",
    "cax = divider.append_axes(\"right\", size=\"5%\", pad=0.05)\n",
    "cbar = Fig.colorbar(im, ax=ax, label = 'Detector counts', cax=cax, cmap = 'viridis')\n",
    "plt.show()"
   ]
  },
  {
   "cell_type": "markdown",
   "id": "f339d01c",
   "metadata": {},
   "source": [
    "$\\textbf{Finding positions by hand}$"
   ]
  },
  {
   "cell_type": "code",
   "execution_count": null,
   "id": "5ea64bdc",
   "metadata": {},
   "outputs": [],
   "source": [
    "center = FitCenterModule(name_in = 'center', image_in_tag = 'cADI_res_median', fit_out_tag = 'PlanetCenter', \n",
    "                         guess = (, , 3, 3, , , 0))\n",
    "#this module requires guesses, in order: x offset wrt centre, y offset wrt centre, Famplitude, position angle and amp offset. These can be \n",
    "#calculated by hand by taking the positions from the final reduced image opened in SAOImageDS9. This module fits a 2D Gaussian\n",
    "#to the PSF of the point source and returns the best fit parameters in the Hdf5 database. These then need to be added by hand\n",
    "#to the sepa, posa from calc_sep_pa3 by ways of appending."
   ]
  },
  {
   "cell_type": "code",
   "execution_count": null,
   "id": "474bfe7b",
   "metadata": {},
   "outputs": [],
   "source": [
    "pipeline.add_module(center)\n",
    "pipeline.run()"
   ]
  }
 ],
 "metadata": {
  "kernelspec": {
   "display_name": "Python 3",
   "language": "python",
   "name": "python3"
  },
  "language_info": {
   "codemirror_mode": {
    "name": "ipython",
    "version": 3
   },
   "file_extension": ".py",
   "mimetype": "text/x-python",
   "name": "python",
   "nbconvert_exporter": "python",
   "pygments_lexer": "ipython3",
   "version": "3.7.10"
  }
 },
 "nbformat": 4,
 "nbformat_minor": 5
}
