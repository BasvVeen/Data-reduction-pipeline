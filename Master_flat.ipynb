{
 "cells": [
  {
   "cell_type": "markdown",
   "id": "785b3750",
   "metadata": {},
   "source": [
    "Before this, you need to install PynPoint version 0.8.1 by way of : pip install install pynpoint==0.8.1 and trackpy by\n",
    "pip install trackpy in your anaconda terminal."
   ]
  },
  {
   "cell_type": "markdown",
   "id": "5bea20ab",
   "metadata": {},
   "source": [
    "$\\textbf{Importing the necessary modules from PynPoint, together with necessary python modules for plotting.}$"
   ]
  },
  {
   "cell_type": "code",
   "execution_count": 2,
   "id": "a8dcf55f",
   "metadata": {},
   "outputs": [],
   "source": [
    "import matplotlib.pyplot as plt\n",
    "import os\n",
    "import numpy as np\n",
    "from astropy.visualization import astropy_mpl_style\n",
    "from matplotlib.patches import Circle\n",
    "from astropy import table\n",
    "from astropy.utils.data import get_pkg_data_filename\n",
    "from matplotlib.cm import ScalarMappable\n",
    "\n",
    "\n",
    "from ImageFunctions import UnsharpMaskModule, CorrectDistortionModule_SPHERE\n",
    "from BadPixelCleaning import BadPixelMapModule_IRDIS\n",
    "from pynpoint import Pypeline, FitsReadingModule, FitsWritingModule, StackCubesModule, FlatCalibrationModule, \\\n",
    "    BadPixelSigmaFilterModule, NoddingBackgroundModule, AngleCalculationModule, CombineTagsModule, \\\n",
    "    SortParangModule, StackAndSubsetModule, CropImagesModule, DerotateAndStackModule, ReplaceBadPixelsModule, \\\n",
    "    WaffleCenteringModule, PSFpreparationModule, PcaPsfSubtractionModule, ClassicalADIModule, AttributeWritingModule, \\\n",
    "    DarkCalibrationModule, BadPixelMapModule, AddLinesModule, Hdf5WritingModule, Hdf5ReadingModule, FitCenterModule\n",
    "\n",
    "#if you get a warning from jupyter here, you might need to downgrade to an older version op ipython by starting up an\n",
    "#anaconda terminal and running : pip install install ipython==7.10.0"
   ]
  },
  {
   "cell_type": "markdown",
   "id": "2a5bc74a",
   "metadata": {},
   "source": [
    "$\\textbf{Parameters}$"
   ]
  },
  {
   "cell_type": "code",
   "execution_count": 3,
   "id": "b91baf35",
   "metadata": {},
   "outputs": [],
   "source": [
    "target = \"\" #here just put the name of the observed target\n",
    "\n",
    "epoch = \"\" #just update these parameters with values applicable for your observations.\n",
    "exptime = \"\"\n",
    "exptime_flat = \"\"\n",
    "\n",
    "filt = \"B_H\"\n",
    "instrument = \"SPHERE\"\n",
    "instrument_det = \"IRDIS\"\n",
    "\n",
    "path = \"\"#this should be the path of the target, in this target folder should be an output folder, an input folder and the\n",
    "#four other python files containing the necessary functions.\n",
    "\n",
    "\n",
    "pixscale = 0.01227"
   ]
  },
  {
   "cell_type": "markdown",
   "id": "e22a3a93",
   "metadata": {},
   "source": [
    "$\\textbf{Define directories}$"
   ]
  },
  {
   "cell_type": "code",
   "execution_count": null,
   "id": "ced2785b",
   "metadata": {},
   "outputs": [],
   "source": [
    "working_place_in = os.path.join(path)\n",
    "input_place_in = os.path.join(path,'input\\\\') #the directory in which all your files are. Within this directory\n",
    "#the files need to be sorted based on nature: dark, sky, science, center, flat etc.\n",
    "output_place_in = os.path.join(path,'output\\\\', \"master_flat\")#here the master flat\n",
    "#will be put after its creation, which you can then use again for the data reduction"
   ]
  },
  {
   "cell_type": "markdown",
   "id": "b570a99d",
   "metadata": {},
   "source": [
    "$\\textbf{Configuring directories}$"
   ]
  },
  {
   "cell_type": "code",
   "execution_count": null,
   "id": "fbe821b6",
   "metadata": {},
   "outputs": [],
   "source": [
    "# Create Working directory for this target\n",
    "if not os.path.isdir(working_place_in):\n",
    "    print(\"Creating directory: %s\" % (working_place_in))\n",
    "    os.makedirs(working_place_in)\n",
    "\n",
    "# Create directory for results\n",
    "if not os.path.isdir(output_place_in):\n",
    "    print(\"Creating directory: %s\" % (output_place_in))\n",
    "    os.makedirs(output_place_in)\n",
    "\n",
    "\n",
    "\n",
    "pipeline = Pypeline(working_place_in=path,\n",
    "                    input_place_in,\n",
    "                    output_place_in)"
   ]
  },
  {
   "cell_type": "markdown",
   "id": "4197b6eb",
   "metadata": {},
   "source": [
    "$\\textbf{Reading the dark data}$"
   ]
  },
  {
   "cell_type": "code",
   "execution_count": null,
   "id": "27adb7ca",
   "metadata": {},
   "outputs": [],
   "source": [
    "dark = FitsReadingModule(name_in='read_dark',\n",
    "                           input_dir=path + 'input\\\\DARK',\n",
    "                           image_tag='dark_arr',\n",
    "                           overwrite=True,\n",
    "                           check=False,)"
   ]
  },
  {
   "cell_type": "markdown",
   "id": "52713e6d",
   "metadata": {},
   "source": [
    "$\\textbf{Reading the sky data}$"
   ]
  },
  {
   "cell_type": "code",
   "execution_count": null,
   "id": "58be8ae6",
   "metadata": {},
   "outputs": [],
   "source": [
    "sky = FitsReadingModule(name_in=\"sky_reading\",\n",
    "                                input_dir=path + 'Input\\\\SKY',\n",
    "                                image_tag=\"sky_arr\")"
   ]
  },
  {
   "cell_type": "markdown",
   "id": "c270cc8b",
   "metadata": {},
   "source": [
    "$\\textbf{Median combine all the sky images}$"
   ]
  },
  {
   "cell_type": "code",
   "execution_count": null,
   "id": "2a813503",
   "metadata": {},
   "outputs": [],
   "source": [
    "sky_median = DerotateAndStackModule(name_in=\"median_sky_arr\",\n",
    "                                    image_in_tag=\"sky_arr\",\n",
    "                                    image_out_tag=\"sky_arr_median\",\n",
    "                                    derotate=False,\n",
    "                                    stack='median',\n",
    "                                    extra_rot=0.)"
   ]
  },
  {
   "cell_type": "markdown",
   "id": "76632ed3",
   "metadata": {},
   "source": [
    "$\\textbf{Reading and making the master flat data}$"
   ]
  },
  {
   "cell_type": "code",
   "execution_count": null,
   "id": "83786447",
   "metadata": {},
   "outputs": [],
   "source": [
    "m_flat = FitsReadingModule(name_in='m_flat',\n",
    "                           input_dir=path + 'Input\\\\FLAT_LAMP',\n",
    "                           image_tag='flat_arr1',\n",
    "                           overwrite=True,\n",
    "                           check=False,)"
   ]
  },
  {
   "cell_type": "code",
   "execution_count": null,
   "id": "1552b6e7",
   "metadata": {},
   "outputs": [],
   "source": [
    "master_flat_1 = DarkCalibrationModule(name_in=\"master_flat\",\n",
    "                                         image_in_tag=\"flat_arr1\",\n",
    "                                         dark_in_tag=\"dark_arr\",\n",
    "                                         image_out_tag=\"masterflat_arr1\")\n",
    "\n",
    "sky_subtraction_master_flat = DarkCalibrationModule(name_in=\"sky_subtraction_master_flat\",\n",
    "                                                dark_in_tag=\"sky_arr_median\",\n",
    "                                                image_in_tag=\"masterflat_arr1\",\n",
    "                                                image_out_tag=\"masterflat_arr\")"
   ]
  },
  {
   "cell_type": "code",
   "execution_count": null,
   "id": "68e7b900",
   "metadata": {},
   "outputs": [],
   "source": [
    "masterflat_write = FitsWritingModule(name_in='masterflat_write',\n",
    "                           data_tag='masterflat_arr',\n",
    "                           file_name='masterflat.fits')"
   ]
  },
  {
   "cell_type": "code",
   "execution_count": null,
   "id": "cb4a5476",
   "metadata": {},
   "outputs": [],
   "source": [
    "pipeline.add_module(m_flat)#all the modules are added to the pipeline here, which is ran in the following cell.\n",
    "pipeline.add_module(dark)\n",
    "pipeline.add_module(sky)\n",
    "pipeline.add_module(sky_median)\n",
    "pipeline.add_module(master_flat_1)\n",
    "pipeline.add_module(sky_subtraction_master_flat)\n",
    "pipeline.add_module(masterflat_write)"
   ]
  },
  {
   "cell_type": "code",
   "execution_count": null,
   "id": "e0c3e2fc",
   "metadata": {},
   "outputs": [],
   "source": [
    "pipeline.run()#running this will result in the master flat being created and added to the output folder in a new folder called\n",
    "#master flat."
   ]
  }
 ],
 "metadata": {
  "kernelspec": {
   "display_name": "Python 3",
   "language": "python",
   "name": "python3"
  },
  "language_info": {
   "codemirror_mode": {
    "name": "ipython",
    "version": 3
   },
   "file_extension": ".py",
   "mimetype": "text/x-python",
   "name": "python",
   "nbconvert_exporter": "python",
   "pygments_lexer": "ipython3",
   "version": "3.7.10"
  }
 },
 "nbformat": 4,
 "nbformat_minor": 5
}
